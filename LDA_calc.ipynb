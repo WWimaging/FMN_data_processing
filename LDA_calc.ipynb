{
 "cells": [
  {
   "cell_type": "code",
   "execution_count": null,
   "metadata": {},
   "outputs": [],
   "source": [
    "import scipy.io\n",
    "import numpy as np\n",
    "# from sklearn.preprocessing import StandardScaler\n"
   ]
  },
  {
   "cell_type": "code",
   "execution_count": null,
   "metadata": {},
   "outputs": [],
   "source": [
    "data=scipy.io.loadmat('tract_analysis.mat')\n",
    "data_all=data['data_all']"
   ]
  },
  {
   "cell_type": "code",
   "execution_count": null,
   "metadata": {},
   "outputs": [],
   "source": [
    "def cost_lda(X,y):\n",
    "    #ldr value\n",
    "    #X is data, y is labeling\n",
    "    nfeature=X.shape[1]\n",
    "\n",
    "    ind0=np.where(y==0)\n",
    "    ind1=np.where(y==1)\n",
    "    ind2=np.where(y==2)\n",
    "   \n",
    "    X_0=np.reshape(np.squeeze(X[ind0,:]),[-1,nfeature])\n",
    "    X_1=np.reshape(np.squeeze(X[ind1,:]),[-1,nfeature])\n",
    "    X_2=np.reshape(np.squeeze(X[ind2,:]),[-1,nfeature])\n",
    "\n",
    "    m0=np.mean(X_0,axis=0)\n",
    "    m1=np.mean(X_1,axis=0)\n",
    "    m2=np.mean(X_2,axis=0)\n",
    "    mm=np.mean(X,axis=0)\n",
    "\n",
    "    X_0_dm=X_0-m0\n",
    "    X_1_dm=X_1-m1\n",
    "    X_2_dm=X_2-m2\n",
    "    X_dm=X-mm\n",
    "\n",
    "    m0m=np.reshape(m0-mm,[-1,1])\n",
    "    m1m=np.reshape(m1-mm,[-1,1])\n",
    "    m2m=np.reshape(m2-mm,[-1,1])\n",
    "\n",
    "    sw=np.matmul(np.transpose(X_0_dm),X_0_dm)+np.matmul(np.transpose(X_1_dm),X_1_dm)+np.matmul(np.transpose(X_2_dm),X_2_dm)\n",
    "    sb=5*np.matmul(m0m,np.transpose(m0m))+3*np.matmul(m1m,np.transpose(m1m))+3*np.matmul(m2m,np.transpose(m2m))\n",
    "\n",
    "    cost1=np.linalg.det(sb)/np.linalg.det(sw)\n",
    "    return cost1"
   ]
  },
  {
   "cell_type": "code",
   "execution_count": null,
   "metadata": {},
   "outputs": [],
   "source": [
    "#LDA\n",
    "# run LDA, calculate the ldr\n",
    "\n",
    "from sklearn.discriminant_analysis import LinearDiscriminantAnalysis\n",
    "\n",
    "clf1 = LinearDiscriminantAnalysis(n_components=1,solver='eigen',shrinkage='auto')\n",
    "\n",
    "# scaler=StandardScaler()\n",
    "\n",
    "data_LDA_1d=np.zeros((8,11,1,3))\n",
    "cost_LDA_unpermu_1d=np.zeros((8,3))\n",
    "\n",
    "labels_true=np.array([0,0,0,0,0,1,1,1,2,2,2])\n",
    "labels_test=labels_true\n",
    "\n",
    "for isubj in range(8):\n",
    "    for itest in range(3):\n",
    "\n",
    "        if itest == 0:\n",
    "            datasubj=data_all[isubj,:,:]\n",
    "        elif itest == 1:\n",
    "            datasubj=data_all[isubj,:,:3]\n",
    "        elif itest == 2:\n",
    "            datasubj=data_all[isubj,:,3:]\n",
    "        datasubj_7f=datasubj\n",
    "        clf1.fit(datasubj_7f, labels_true)\n",
    "        data_LDA_1d[isubj,:,:,itest]=clf1.transform(datasubj_7f)\n",
    "        \n",
    "        cost_LDA_unpermu_1d[isubj,itest]=cost_lda(data_LDA_1d[isubj,:,:,itest],labels_test)\n",
    "\n",
    "# print(cost_LDA_unpermu_1d)\n",
    "\n",
    "\n",
    "\n"
   ]
  },
  {
   "cell_type": "code",
   "execution_count": null,
   "metadata": {},
   "outputs": [],
   "source": [
    "# permutation test\n",
    "\n",
    "from sklearn.discriminant_analysis import LinearDiscriminantAnalysis\n",
    "\n",
    "clf1 = LinearDiscriminantAnalysis(n_components=1,solver='eigen',shrinkage='auto')\n",
    "\n",
    "# scaler=StandardScaler()\n",
    "\n",
    "data_LDA_1d=np.zeros((8,11,1))\n",
    "\n",
    "print(data_LDA_1d.shape)\n",
    "\n",
    "nperm=100000;\n",
    "\n",
    "cost_LDA_1d=np.zeros((8,3,nperm))\n",
    "\n",
    "labels_true=np.array([0,0,0,0,0,1,1,1,2,2,2])\n",
    "\n",
    "for iperm in range(nperm):\n",
    "    labels_test=np.random.permutation(labels_true)\n",
    "#     labels_test=labels_true\n",
    "    if iperm%10000 == 0:\n",
    "        print(iperm)\n",
    "        \n",
    "    for isubj in range(8):\n",
    "        for itest in range(3):\n",
    "\n",
    "            if itest == 0:\n",
    "                datasubj=data_all[isubj,:,:]\n",
    "            elif itest == 1:\n",
    "                datasubj=data_all[isubj,:,:3]\n",
    "            elif itest == 2:\n",
    "                datasubj=data_all[isubj,:,3:]\n",
    "\n",
    "            datasubj_7f=datasubj\n",
    "            clf1.fit(datasubj_7f, labels_test)\n",
    "            data_LDA_1d[isubj,:,:]=clf1.transform(datasubj_7f)\n",
    "            cost_LDA_1d[isubj,itest,iperm]=cost_lda(data_LDA_1d[isubj,:,:],labels_test)\n",
    "        \n",
    "print('finished')\n",
    "\n",
    "\n",
    "\n"
   ]
  },
  {
   "cell_type": "code",
   "execution_count": null,
   "metadata": {},
   "outputs": [],
   "source": [
    "# scipy.io.savemat('run100000_shrink_python.mat',{'cost_LDA_1d': cost_LDA_1d})\n",
    "datetest=scipy.io.loadmat('run100000_shrink_python.mat')\n",
    "cost_LDA_1d=datetest['cost_LDA_1d']"
   ]
  },
  {
   "cell_type": "code",
   "execution_count": null,
   "metadata": {},
   "outputs": [],
   "source": [
    "#calculate p value \n",
    "#validated, it is right\n",
    "\n",
    "def calc_pval(X,xx):\n",
    "    n1=np.prod(X.shape)\n",
    "    nn2=X[X>xx]\n",
    "    n2=np.prod(nn2.shape)\n",
    "    rr=(n2+1)/(n1+1)\n",
    "    return rr"
   ]
  },
  {
   "cell_type": "code",
   "execution_count": null,
   "metadata": {},
   "outputs": [],
   "source": [
    "\n",
    "p_all1d=np.zeros((8,3))\n",
    "\n",
    "for isubj in range(8):\n",
    "    for itest in range(3):\n",
    "        p_all1d[isubj,itest]=calc_pval(cost_LDA_1d[isubj,itest,:],cost_LDA_unpermu_1d[isubj,itest])\n",
    "\n",
    "# print(p_all1d)\n"
   ]
  }
 ],
 "metadata": {
  "kernelspec": {
   "display_name": "Python 3",
   "language": "python",
   "name": "python3"
  },
  "language_info": {
   "codemirror_mode": {
    "name": "ipython",
    "version": 3
   },
   "file_extension": ".py",
   "mimetype": "text/x-python",
   "name": "python",
   "nbconvert_exporter": "python",
   "pygments_lexer": "ipython3",
   "version": "3.7.4"
  }
 },
 "nbformat": 4,
 "nbformat_minor": 2
}
